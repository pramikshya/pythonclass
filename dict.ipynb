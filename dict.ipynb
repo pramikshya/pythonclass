{
 "cells": [
  {
   "cell_type": "code",
   "execution_count": 1,
   "metadata": {},
   "outputs": [
    {
     "name": "stdout",
     "output_type": "stream",
     "text": [
      "{'name': 'sudan', 'surname': 'bhandari', 'age': 27, 'phone': [98062, 98449]}\n"
     ]
    },
    {
     "data": {
      "text/plain": [
       "{'name': 'sudan', 'surname': 'bhandari', 'age': 27, 'phone': [98062, 98449]}"
      ]
     },
     "execution_count": 1,
     "metadata": {},
     "output_type": "execute_result"
    }
   ],
   "source": [
    "student={\n",
    "    \"name\":\"sudan\",\n",
    "    \"surname\":\"bhandari\",\n",
    "    \"age\":27,\n",
    "    \"phone\":[98062, 98449]\n",
    "}\n",
    "print(student)\n",
    "student\n",
    "\n"
   ]
  },
  {
   "cell_type": "code",
   "execution_count": null,
   "metadata": {},
   "outputs": [],
   "source": [
    "#remove method od dict\n",
    "\n",
    "#pop\n",
    "student.pop(\"age\")\n"
   ]
  }
 ],
 "metadata": {
  "kernelspec": {
   "display_name": "venv",
   "language": "python",
   "name": "python3"
  },
  "language_info": {
   "codemirror_mode": {
    "name": "ipython",
    "version": 3
   },
   "file_extension": ".py",
   "mimetype": "text/x-python",
   "name": "python",
   "nbconvert_exporter": "python",
   "pygments_lexer": "ipython3",
   "version": "3.12.3"
  }
 },
 "nbformat": 4,
 "nbformat_minor": 2
}
